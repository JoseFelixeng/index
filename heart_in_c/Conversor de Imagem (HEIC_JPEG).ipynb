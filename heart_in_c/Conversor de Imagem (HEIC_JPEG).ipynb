{
 "cells": [
  {
   "cell_type": "code",
   "execution_count": 26,
   "id": "ca85fa35",
   "metadata": {},
   "outputs": [],
   "source": [
    "from PIL import Image\n",
    "from pillow_heif import register_heif_opener\n",
    "import os # permite lê todos os arquivos de uma imagens\n",
    "\n",
    "lista_arquivos = os.listdir(\"imagens\") #lista todos os arquivos dentro de uma pasta \n",
    "register_heif_opener()\n",
    "\n",
    "\n",
    "# abrir arquivo\n",
    "imagem = Image.open(f\"imagens/IMG_3278.HEIC\")\n",
    "\n",
    "# salvar o arquivo com outro formato\n",
    "imagem.save(f'convertidas/IMG_3278.jpeg') #replace salva o arquivo com mesmo nome de antes\n",
    "    "
   ]
  },
  {
   "cell_type": "code",
   "execution_count": null,
   "id": "5bbb50cf",
   "metadata": {},
   "outputs": [],
   "source": [
    "from PIL import Image # Biblioteca para edição de Imagem \n",
    "from pillow_heif import register_heif_opener #Biblioteca Para leitura de Arquivos HEIC\n",
    "import os # permite lê todos os arquivos de uma imagens\n",
    "\n",
    "lista_arquivos = os.listdir(\"imagens\") #lista todos os arquivos dentro de uma pasta imagens/ pasta com as imagens\n",
    "register_heif_opener() #Abrir os Arquivos HEIC\n",
    "\n",
    "for i in lista_arquivos:\n",
    "    # abrir arquivo\n",
    "    imagem = Image.open(f\"imagens/{i}\")\n",
    "\n",
    "    # salvar o arquivo com outro formato\n",
    "    imagem.save(f'convertidas/{i.replace(\"HEIC\",\"jpeg\")}') #replace salva o arquivo com mesmo nome de antes\n",
    "    \n",
    "print(f\"Imagens Formatadas Com Sucesso\")"
   ]
  }
 ],
 "metadata": {
  "kernelspec": {
   "display_name": "Python 3 (ipykernel)",
   "language": "python",
   "name": "python3"
  },
  "language_info": {
   "codemirror_mode": {
    "name": "ipython",
    "version": 3
   },
   "file_extension": ".py",
   "mimetype": "text/x-python",
   "name": "python",
   "nbconvert_exporter": "python",
   "pygments_lexer": "ipython3",
   "version": "3.9.12"
  }
 },
 "nbformat": 4,
 "nbformat_minor": 5
}
